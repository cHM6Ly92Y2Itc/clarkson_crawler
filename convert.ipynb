{
 "cells": [
  {
   "cell_type": "code",
   "execution_count": 24,
   "metadata": {},
   "outputs": [],
   "source": [
    "import json\n",
    "import pandas as pd\n",
    "\n",
    "with open(\"clarkson.json\") as f:\n",
    "    data = json.load(f)"
   ]
  },
  {
   "cell_type": "code",
   "execution_count": 25,
   "metadata": {},
   "outputs": [],
   "source": [
    "container_port_congestion_idx = []\n",
    "date = []\n",
    "\n",
    "# 集装箱港口拥堵指数是每天爬取的(如无意外), 其他数据一周一次, 所以单独处理\n",
    "for blk in data[\"Container Port Congestion Index\"][\"data\"]:\n",
    "    date.append(blk[\"date\"].split(\" \")[0])\n",
    "    container_port_congestion_idx.append(blk[\"value\"])\n",
    "df = pd.DataFrame({\"date\":date,\"container_port_congestion_idx\": container_port_congestion_idx})\n",
    "df.set_index(\"date\",inplace=True)\n",
    "df.to_csv(\"container_port_congestion_idx.csv\",encoding=\"utf-8\")"
   ]
  },
  {
   "cell_type": "code",
   "execution_count": 30,
   "metadata": {},
   "outputs": [],
   "source": [
    "world_seaborne_trade = []\n",
    "growth = []\n",
    "clarksea_idx = []\n",
    "newbuild_price_idx = []\n",
    "co2_emissions = []\n",
    "\n",
    "date = []\n",
    "\n",
    "# 一周爬取一次的数据\n",
    "label = [\"World Seaborne Trade\",\"World Seaborne Trade YoY\",\"ClarkSea Index\",\"Newbuild Price Index\",\"CO2 Emissions\"]\n",
    "\n",
    "# 提取日期\n",
    "for blk in data[\"World Seaborne Trade\"][\"data\"]:\n",
    "    date.append(blk[\"date\"].split(\" \")[0])\n",
    "\n",
    "for i in range(0,len(label)):\n",
    "    for blk in data[label[i]][\"data\"]:\n",
    "        if i==0:\n",
    "            world_seaborne_trade.append(blk[\"value\"])\n",
    "        elif i==1:\n",
    "            growth.append(blk[\"value\"])\n",
    "        elif i==2:\n",
    "            clarksea_idx.append(blk[\"value\"])\n",
    "        elif i==3:\n",
    "            newbuild_price_idx.append(blk[\"value\"])\n",
    "        elif i==4:\n",
    "            co2_emissions.append(blk[\"value\"])\n",
    "\n",
    "df = pd.DataFrame({\"date\":date,\"world_seaborne_trade\":world_seaborne_trade,\"growth\":growth,\"clarksea_idx\":clarksea_idx,\"newbuild_price_idx\":newbuild_price_idx,\"co2_emissions\":co2_emissions})\n",
    "df.set_index(\"date\",inplace=True)\n",
    "df.to_csv(\"clarkson.csv\")"
   ]
  }
 ],
 "metadata": {
  "kernelspec": {
   "display_name": "base",
   "language": "python",
   "name": "python3"
  },
  "language_info": {
   "codemirror_mode": {
    "name": "ipython",
    "version": 3
   },
   "file_extension": ".py",
   "mimetype": "text/x-python",
   "name": "python",
   "nbconvert_exporter": "python",
   "pygments_lexer": "ipython3",
   "version": "3.11.5"
  }
 },
 "nbformat": 4,
 "nbformat_minor": 2
}
